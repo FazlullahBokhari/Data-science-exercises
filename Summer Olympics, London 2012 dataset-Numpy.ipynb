{
 "cells": [
  {
   "cell_type": "code",
   "execution_count": 1,
   "metadata": {},
   "outputs": [],
   "source": [
    "#Import the necessary library\n",
    "import numpy as np"
   ]
  },
  {
   "cell_type": "code",
   "execution_count": 5,
   "metadata": {},
   "outputs": [],
   "source": [
    "#Manually add the Summer Olympics, London 2012 dataset as arrays\n",
    "countries = np.array(['Great Britain','China', 'Russia', 'United States', 'Korea', 'Japan', 'Germany'])\n",
    "gold = np.array([29,38,24,46,13,7,11])\n",
    "silver = np.array([17,28,25,28,8,14,11])\n",
    "Bronze = np.array([19,22,32,29,7,17,14])"
   ]
  },
  {
   "cell_type": "code",
   "execution_count": 7,
   "metadata": {},
   "outputs": [
    {
     "name": "stdout",
     "output_type": "stream",
     "text": [
      "United States\n"
     ]
    }
   ],
   "source": [
    "#Find the country name with maximum gold medals\n",
    "max_gold = np.argmax(gold)\n",
    "name_of_country_with_max_gold = countries[max_gold]\n",
    "print(name_of_country_with_max_gold)"
   ]
  },
  {
   "cell_type": "code",
   "execution_count": 17,
   "metadata": {},
   "outputs": [
    {
     "name": "stdout",
     "output_type": "stream",
     "text": [
      "['Great Britain' 'China' 'Russia' 'United States']\n"
     ]
    }
   ],
   "source": [
    "#Find the countries with more than 20 gold medals\n",
    "print(countries[gold>20])"
   ]
  },
  {
   "cell_type": "code",
   "execution_count": 20,
   "metadata": {},
   "outputs": [
    {
     "name": "stdout",
     "output_type": "stream",
     "text": [
      "Name of the country: Great Britain with gold medals: 29 and total medals: 46\n",
      "Name of the country: China with gold medals: 38 and total medals: 66\n",
      "Name of the country: Russia with gold medals: 24 and total medals: 49\n",
      "Name of the country: United States with gold medals: 46 and total medals: 74\n",
      "Name of the country: Korea with gold medals: 13 and total medals: 21\n",
      "Name of the country: Japan with gold medals: 7 and total medals: 21\n",
      "Name of the country: Germany with gold medals: 11 and total medals: 22\n"
     ]
    }
   ],
   "source": [
    "#Evaluate the dataset and print the name of each country with its gold medals and total number of medals\n",
    "for i in range(len(countries)):\n",
    "    print(\"Name of the country: {} with gold medals: {} and total medals: {}\".format(countries[i], gold[i],np.add(gold,silver,Bronze)[i]))"
   ]
  },
  {
   "cell_type": "code",
   "execution_count": null,
   "metadata": {},
   "outputs": [],
   "source": []
  }
 ],
 "metadata": {
  "kernelspec": {
   "display_name": "Python 3",
   "language": "python",
   "name": "python3"
  },
  "language_info": {
   "codemirror_mode": {
    "name": "ipython",
    "version": 3
   },
   "file_extension": ".py",
   "mimetype": "text/x-python",
   "name": "python",
   "nbconvert_exporter": "python",
   "pygments_lexer": "ipython3",
   "version": "3.8.5"
  }
 },
 "nbformat": 4,
 "nbformat_minor": 4
}
