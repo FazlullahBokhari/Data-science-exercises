{
 "cells": [
  {
   "cell_type": "code",
   "execution_count": 1,
   "metadata": {},
   "outputs": [],
   "source": [
    "#Import required library\n",
    "import numpy as np"
   ]
  },
  {
   "cell_type": "code",
   "execution_count": 2,
   "metadata": {},
   "outputs": [],
   "source": [
    "#Manually add the dataset\n",
    "countries = np.array(['Algeria','Angola','Argentina','Australia','Austria','Bahamas','Bangladesh','Belarus',\n",
    "                      'Belgium','Bhutan','Brazil','Bulgaria','Cambodia','Cameroon','Chile','China','Colombia',\n",
    "                      'Cyprus','Denmark','El Salvador','Estonia','Ethiopia','Fiji','Finland','France','Georgia',\n",
    "                      'Ghana','Grenada','Guinea','Haiti','Honduras','Hungary','India','Indonesia','Ireland',\n",
    "                      'Italy','Japan','Kenya', 'South Korea','Liberia','Malaysia','Mexico', 'Morocco','Nepal',\n",
    "                      'New Zealand','Norway','Pakistan', 'Peru','Qatar','Russia','Singapore','South Africa',\n",
    "                      'Spain','Sweden','Switzerland','Thailand', 'United Arab Emirates','United Kingdom',\n",
    "                      'United States','Uruguay','Venezuela','Vietnam','Zimbabwe'])\n",
    "\n",
    "gdp_per_capita = np.array([2255.225482,629.9553062,11601.63022,25306.82494,27266.40335,19466.99052,588.3691778,\n",
    "                           2890.345675,24733.62696,1445.760002,4803.398244,2618.876037,590.4521124,665.7982328,\n",
    "                           7122.938458,2639.54156,3362.4656,15378.16704,30860.12808,2579.115607,6525.541272,\n",
    "                           229.6769525,2242.689259,27570.4852,23016.84778,1334.646773,402.6953275,6047.200797,\n",
    "                           394.1156638,385.5793827,1414.072488,5745.981529,837.7464011,1206.991065,27715.52837,\n",
    "                           18937.24998,39578.07441,478.2194906,16684.21278,279.2204061,5345.213415,6288.25324,\n",
    "                           1908.304416,274.8728621,14646.42094,40034.85063,672.1547506,3359.517402,36152.66676,\n",
    "                           3054.727742,33529.83052,3825.093781,15428.32098,33630.24604,39170.41371,2699.123242,\n",
    "                           21058.43643,28272.40661,37691.02733,9581.05659,5671.912202,757.4009286,347.7456605])"
   ]
  },
  {
   "cell_type": "code",
   "execution_count": 3,
   "metadata": {},
   "outputs": [
    {
     "name": "stdout",
     "output_type": "stream",
     "text": [
      "Norway\n"
     ]
    }
   ],
   "source": [
    "#Find and print the name of the country with the highest GDP\n",
    "max_gdp_per_capita = gdp_per_capita.argmax()\n",
    "country_name_for_max_gdp = countries[max_gdp_per_capita]\n",
    "print(country_name_for_max_gdp)"
   ]
  },
  {
   "cell_type": "code",
   "execution_count": 4,
   "metadata": {},
   "outputs": [
    {
     "name": "stdout",
     "output_type": "stream",
     "text": [
      "Ethiopia\n"
     ]
    }
   ],
   "source": [
    "#Find and print the name of the country with the lowest GDP\n",
    "min_gdp_per_capita = gdp_per_capita.argmin()\n",
    "country_name_for_min_gdp = countries[min_gdp_per_capita]\n",
    "print(country_name_for_min_gdp)"
   ]
  },
  {
   "cell_type": "code",
   "execution_count": 5,
   "metadata": {},
   "outputs": [
    {
     "name": "stdout",
     "output_type": "stream",
     "text": [
      "Evaluating country:- Algeria \n",
      "Evaluating country:- Angola \n",
      "Evaluating country:- Argentina \n",
      "Evaluating country:- Australia \n",
      "Evaluating country:- Austria \n",
      "Evaluating country:- Bahamas \n",
      "Evaluating country:- Bangladesh \n",
      "Evaluating country:- Belarus \n",
      "Evaluating country:- Belgium \n",
      "Evaluating country:- Bhutan \n",
      "Evaluating country:- Brazil \n",
      "Evaluating country:- Bulgaria \n",
      "Evaluating country:- Cambodia \n",
      "Evaluating country:- Cameroon \n",
      "Evaluating country:- Chile \n",
      "Evaluating country:- China \n",
      "Evaluating country:- Colombia \n",
      "Evaluating country:- Cyprus \n",
      "Evaluating country:- Denmark \n",
      "Evaluating country:- El Salvador \n",
      "Evaluating country:- Estonia \n",
      "Evaluating country:- Ethiopia \n",
      "Evaluating country:- Fiji \n",
      "Evaluating country:- Finland \n",
      "Evaluating country:- France \n",
      "Evaluating country:- Georgia \n",
      "Evaluating country:- Ghana \n",
      "Evaluating country:- Grenada \n",
      "Evaluating country:- Guinea \n",
      "Evaluating country:- Haiti \n",
      "Evaluating country:- Honduras \n",
      "Evaluating country:- Hungary \n",
      "Evaluating country:- India \n",
      "Evaluating country:- Indonesia \n",
      "Evaluating country:- Ireland \n",
      "Evaluating country:- Italy \n",
      "Evaluating country:- Japan \n",
      "Evaluating country:- Kenya \n",
      "Evaluating country:- South Korea \n",
      "Evaluating country:- Liberia \n",
      "Evaluating country:- Malaysia \n",
      "Evaluating country:- Mexico \n",
      "Evaluating country:- Morocco \n",
      "Evaluating country:- Nepal \n",
      "Evaluating country:- New Zealand \n",
      "Evaluating country:- Norway \n",
      "Evaluating country:- Pakistan \n",
      "Evaluating country:- Peru \n",
      "Evaluating country:- Qatar \n",
      "Evaluating country:- Russia \n",
      "Evaluating country:- Singapore \n",
      "Evaluating country:- South Africa \n",
      "Evaluating country:- Spain \n",
      "Evaluating country:- Sweden \n",
      "Evaluating country:- Switzerland \n",
      "Evaluating country:- Thailand \n",
      "Evaluating country:- United Arab Emirates \n",
      "Evaluating country:- United Kingdom \n",
      "Evaluating country:- United States \n",
      "Evaluating country:- Uruguay \n",
      "Evaluating country:- Venezuela \n",
      "Evaluating country:- Vietnam \n",
      "Evaluating country:- Zimbabwe \n"
     ]
    }
   ],
   "source": [
    "#Print out text ('evaluating country') and input value ('country name') iteratively\n",
    "for country in countries:\n",
    "    print(\"Evaluating country:- {} \".format(country))"
   ]
  },
  {
   "cell_type": "code",
   "execution_count": 6,
   "metadata": {},
   "outputs": [
    {
     "name": "stdout",
     "output_type": "stream",
     "text": [
      "Name of Country: Algeria and GDP: 2255.225482\n",
      "Name of Country: Angola and GDP: 629.9553062\n",
      "Name of Country: Argentina and GDP: 11601.63022\n",
      "Name of Country: Australia and GDP: 25306.82494\n",
      "Name of Country: Austria and GDP: 27266.40335\n",
      "Name of Country: Bahamas and GDP: 19466.99052\n",
      "Name of Country: Bangladesh and GDP: 588.3691778\n",
      "Name of Country: Belarus and GDP: 2890.345675\n",
      "Name of Country: Belgium and GDP: 24733.62696\n",
      "Name of Country: Bhutan and GDP: 1445.760002\n",
      "Name of Country: Brazil and GDP: 4803.398244\n",
      "Name of Country: Bulgaria and GDP: 2618.876037\n",
      "Name of Country: Cambodia and GDP: 590.4521124\n",
      "Name of Country: Cameroon and GDP: 665.7982328\n",
      "Name of Country: Chile and GDP: 7122.938458\n",
      "Name of Country: China and GDP: 2639.54156\n",
      "Name of Country: Colombia and GDP: 3362.4656\n",
      "Name of Country: Cyprus and GDP: 15378.16704\n",
      "Name of Country: Denmark and GDP: 30860.12808\n",
      "Name of Country: El Salvador and GDP: 2579.115607\n",
      "Name of Country: Estonia and GDP: 6525.541272\n",
      "Name of Country: Ethiopia and GDP: 229.6769525\n",
      "Name of Country: Fiji and GDP: 2242.689259\n",
      "Name of Country: Finland and GDP: 27570.4852\n",
      "Name of Country: France and GDP: 23016.84778\n",
      "Name of Country: Georgia and GDP: 1334.646773\n",
      "Name of Country: Ghana and GDP: 402.6953275\n",
      "Name of Country: Grenada and GDP: 6047.200797\n",
      "Name of Country: Guinea and GDP: 394.1156638\n",
      "Name of Country: Haiti and GDP: 385.5793827\n",
      "Name of Country: Honduras and GDP: 1414.072488\n",
      "Name of Country: Hungary and GDP: 5745.981529\n",
      "Name of Country: India and GDP: 837.7464011\n",
      "Name of Country: Indonesia and GDP: 1206.991065\n",
      "Name of Country: Ireland and GDP: 27715.52837\n",
      "Name of Country: Italy and GDP: 18937.24998\n",
      "Name of Country: Japan and GDP: 39578.07441\n",
      "Name of Country: Kenya and GDP: 478.2194906\n",
      "Name of Country: South Korea and GDP: 16684.21278\n",
      "Name of Country: Liberia and GDP: 279.2204061\n",
      "Name of Country: Malaysia and GDP: 5345.213415\n",
      "Name of Country: Mexico and GDP: 6288.25324\n",
      "Name of Country: Morocco and GDP: 1908.304416\n",
      "Name of Country: Nepal and GDP: 274.8728621\n",
      "Name of Country: New Zealand and GDP: 14646.42094\n",
      "Name of Country: Norway and GDP: 40034.85063\n",
      "Name of Country: Pakistan and GDP: 672.1547506\n",
      "Name of Country: Peru and GDP: 3359.517402\n",
      "Name of Country: Qatar and GDP: 36152.66676\n",
      "Name of Country: Russia and GDP: 3054.727742\n",
      "Name of Country: Singapore and GDP: 33529.83052\n",
      "Name of Country: South Africa and GDP: 3825.093781\n",
      "Name of Country: Spain and GDP: 15428.32098\n",
      "Name of Country: Sweden and GDP: 33630.24604\n",
      "Name of Country: Switzerland and GDP: 39170.41371\n",
      "Name of Country: Thailand and GDP: 2699.123242\n",
      "Name of Country: United Arab Emirates and GDP: 21058.43643\n",
      "Name of Country: United Kingdom and GDP: 28272.40661\n",
      "Name of Country: United States and GDP: 37691.02733\n",
      "Name of Country: Uruguay and GDP: 9581.05659\n",
      "Name of Country: Venezuela and GDP: 5671.912202\n",
      "Name of Country: Vietnam and GDP: 757.4009286\n",
      "Name of Country: Zimbabwe and GDP: 347.7456605\n"
     ]
    }
   ],
   "source": [
    "#Print out the entire list of the countries with their GDPs\n",
    "for i in range(len(countries)):\n",
    "    print(\"Name of Country: {} and GDP: {}\".format(countries[i], gdp_per_capita[i]))"
   ]
  },
  {
   "cell_type": "code",
   "execution_count": 7,
   "metadata": {},
   "outputs": [
    {
     "name": "stdout",
     "output_type": "stream",
     "text": [
      "Highest GDP value:- 40034.85063\n",
      "Lowest GDP value:- 229.6769525\n",
      "Mean GDP value:- 11289.409271639683\n",
      "Standardizes GDP value:- 12743.828910617945\n",
      "Sum of all the GDPs value:- 711232.7841133001\n"
     ]
    }
   ],
   "source": [
    "''''Highest GPD value\n",
    "Lowest GDP value\n",
    "Mean GDP value\n",
    "Standardized GDP value\n",
    "Sum of all the GDPs'''\n",
    "\n",
    "print(\"Highest GDP value:- {}\".format(max(gdp_per_capita)))\n",
    "print(\"Lowest GDP value:- {}\".format(min(gdp_per_capita)))\n",
    "print(\"Mean GDP value:- {}\".format(np.mean(gdp_per_capita)))\n",
    "print(\"Standardizes GDP value:- {}\".format(np.std(gdp_per_capita)))\n",
    "print(\"Sum of all the GDPs value:- {}\".format(sum(gdp_per_capita)))"
   ]
  },
  {
   "cell_type": "code",
   "execution_count": null,
   "metadata": {},
   "outputs": [],
   "source": []
  }
 ],
 "metadata": {
  "kernelspec": {
   "display_name": "Python 3",
   "language": "python",
   "name": "python3"
  },
  "language_info": {
   "codemirror_mode": {
    "name": "ipython",
    "version": 3
   },
   "file_extension": ".py",
   "mimetype": "text/x-python",
   "name": "python",
   "nbconvert_exporter": "python",
   "pygments_lexer": "ipython3",
   "version": "3.8.5"
  }
 },
 "nbformat": 4,
 "nbformat_minor": 4
}
